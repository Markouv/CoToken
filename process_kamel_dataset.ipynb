{
 "cells": [
  {
   "cell_type": "code",
   "execution_count": 41,
   "metadata": {},
   "outputs": [],
   "source": [
    "import json"
   ]
  },
  {
   "cell_type": "code",
   "execution_count": 42,
   "metadata": {},
   "outputs": [],
   "source": [
    "syn_data = json.load(open(\"data/kamel/train_clean.json\"))"
   ]
  },
  {
   "cell_type": "code",
   "execution_count": 43,
   "metadata": {},
   "outputs": [],
   "source": [
    "from collections import defaultdict\n",
    "\n",
    "data = defaultdict(list)\n",
    "for d in syn_data:\n",
    "    data[d[\"api\"]].append(d)"
   ]
  },
  {
   "cell_type": "code",
   "execution_count": 11,
   "metadata": {},
   "outputs": [
    {
     "data": {
      "text/plain": [
       "(array([ 2.,  4.,  5., 18.,  8., 18., 13., 46., 25., 94.]),\n",
       " array([ 1. ,  5.9, 10.8, 15.7, 20.6, 25.5, 30.4, 35.3, 40.2, 45.1, 50. ]),\n",
       " <BarContainer object of 10 artists>)"
      ]
     },
     "execution_count": 11,
     "metadata": {},
     "output_type": "execute_result"
    },
    {
     "data": {
      "image/png": "[encoded data removed]",
      "text/plain": [
       "<Figure size 640x480 with 1 Axes>"
      ]
     },
     "metadata": {},
     "output_type": "display_data"
    }
   ],
   "source": [
    "import matplotlib.pyplot as plt\n",
    "\n",
    "plt.hist([len(d) for d in data.values()])"
   ]
  },
  {
   "cell_type": "code",
   "execution_count": 45,
   "metadata": {},
   "outputs": [],
   "source": [
    "import random\n",
    "data_max_20 = {k:random.sample(v, min(20, len(v))) for k, v in data.items()}\n",
    "data_max_20 = [i for k, v in data_max_20.items() for i in v]"
   ]
  },
  {
   "cell_type": "code",
   "execution_count": 46,
   "metadata": {},
   "outputs": [],
   "source": [
    "json.dump(data_max_20, open(\"data/kamel/syn_max_20.json\", \"w\"), indent=2)"
   ]
  },
  {
   "cell_type": "code",
   "execution_count": 47,
   "metadata": {},
   "outputs": [],
   "source": [
    "data_max_10 = {k:random.sample(v, min(10, len(v))) for k, v in data.items()}\n",
    "data_max_10 = [i for k, v in data_max_10.items() for i in v]"
   ]
  },
  {
   "cell_type": "code",
   "execution_count": 48,
   "metadata": {},
   "outputs": [],
   "source": [
    "json.dump(data_max_10, open(\"data/kamel/syn_max_10.json\", \"w\"), indent=2)"
   ]
  },
  {
   "cell_type": "code",
   "execution_count": 49,
   "metadata": {},
   "outputs": [],
   "source": [
    "data_max_40 = {k:random.sample(v, min(40, len(v))) for k, v in data.items()}\n",
    "data_max_40 = [i for k, v in data_max_40.items() for i in v]\n",
    "json.dump(data_max_40, open(\"data/kamel/syn_max_40.json\", \"w\"), indent=2)"
   ]
  },
  {
   "cell_type": "code",
   "execution_count": 50,
   "metadata": {},
   "outputs": [],
   "source": [
    "raw_id_data = json.load(open(\"/home/shibo/ToolkenGPT/data/kamel/kamel_id_train.json\"))"
   ]
  },
  {
   "cell_type": "code",
   "execution_count": 51,
   "metadata": {},
   "outputs": [],
   "source": [
    "from collections import defaultdict\n",
    "\n",
    "id_data = defaultdict(list)"
   ]
  },
  {
   "cell_type": "code",
   "execution_count": 52,
   "metadata": {},
   "outputs": [],
   "source": [
    "\n",
    "for d in raw_id_data:\n",
    "    id_data[d[\"api\"]].append(d)"
   ]
  },
  {
   "cell_type": "code",
   "execution_count": 53,
   "metadata": {},
   "outputs": [
    {
     "data": {
      "text/plain": [
       "(array([ 4., 13., 25., 49., 35., 50., 37., 10.,  8.,  3.]),\n",
       " array([ 64. ,  68.6,  73.2,  77.8,  82.4,  87. ,  91.6,  96.2, 100.8,\n",
       "        105.4, 110. ]),\n",
       " <BarContainer object of 10 artists>)"
      ]
     },
     "execution_count": 53,
     "metadata": {},
     "output_type": "execute_result"
    },
    {
     "data": {
      "image/png": "[encoded data removed]",
      "text/plain": [
       "<Figure size 640x480 with 1 Axes>"
      ]
     },
     "metadata": {},
     "output_type": "display_data"
    }
   ],
   "source": [
    "import matplotlib.pyplot as plt\n",
    "\n",
    "plt.hist([len(d) for d in id_data.values()])"
   ]
  },
  {
   "cell_type": "code",
   "execution_count": null,
   "metadata": {},
   "outputs": [],
   "source": []
  },
  {
   "cell_type": "code",
   "execution_count": 54,
   "metadata": {},
   "outputs": [],
   "source": [
    "# make 10-example data\n",
    "id_data_max_10 = {k: random.sample(v, min(10, len(v))) for k, v in id_data.items()}\n",
    "id_data_max_10 = [i for k, v in id_data_max_10.items() for i in v]\n",
    "json.dump(id_data_max_10, open(\"data/kamel/id_max_10.json\", \"w\"))\n",
    "\n",
    "id_data_max_20 = {k: random.sample(v, min(20, len(v))) for k, v in id_data.items()}\n",
    "id_data_max_20 = [i for k, v in id_data_max_20.items() for i in v]\n",
    "json.dump(id_data_max_20, open(\"data/kamel/id_max_20.json\", \"w\"))\n",
    "# make 40-example data\n",
    "id_data_max_40 = {k: random.sample(v, min(40, len(v))) for k, v in id_data.items()}\n",
    "id_data_max_40 = [i for k, v in id_data_max_40.items() for i in v]\n",
    "json.dump(id_data_max_40, open(\"data/kamel/id_max_40.json\", \"w\"))"
   ]
  },
  {
   "cell_type": "code",
   "execution_count": null,
   "metadata": {},
   "outputs": [],
   "source": []
  },
  {
   "cell_type": "code",
   "execution_count": null,
   "metadata": {},
   "outputs": [],
   "source": []
  }
 ],
 "metadata": {
  "kernelspec": {
   "display_name": "rap",
   "language": "python",
   "name": "python3"
  },
  "language_info": {
   "codemirror_mode": {
    "name": "ipython",
    "version": 3
   },
   "file_extension": ".py",
   "mimetype": "text/x-python",
   "name": "python",
   "nbconvert_exporter": "python",
   "pygments_lexer": "ipython3",
   "version": "3.10.11"
  },
  "orig_nbformat": 4
 },
 "nbformat": 4,
 "nbformat_minor": 2
}
